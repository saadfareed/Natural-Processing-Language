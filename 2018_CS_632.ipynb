{
 "cells": [
  {
   "cell_type": "code",
   "execution_count": 11,
   "metadata": {},
   "outputs": [
    {
     "name": "stdout",
     "output_type": "stream",
     "text": [
      "Muhammad\n",
      "Saad\n",
      "fareed\n",
      "is\n",
      "my\n",
      "name\n",
      "and\n",
      "happy\n",
      "birthday\n",
      "boy\n",
      "Wish\n",
      "you\n",
      "best\n",
      "of\n",
      "the\n",
      "luck\n",
      "for\n",
      "the\n",
      "Future.\n",
      "خوشی\n",
      "اور\n",
      "صحت،\n",
      "بذریعہ\n",
      "این\n",
      "ایل\n",
      "پی\n"
     ]
    }
   ],
   "source": [
    "def tokenize(file_path):\n",
    "    with open(file_path,'r') as file:\n",
    "        for line in file:        \n",
    "            for word in line.split():\n",
    "                print(word)  \n",
    "tokenize('file.txt')"
   ]
  },
  {
   "cell_type": "code",
   "execution_count": 10,
   "metadata": {},
   "outputs": [
    {
     "name": "stdout",
     "output_type": "stream",
     "text": [
      "26\n"
     ]
    }
   ],
   "source": [
    "def tokennumber(file_path):\n",
    "    corpusFileName=file_path \n",
    "    corpusFile=open(corpusFileName);\n",
    "    data=corpusFile.read()\n",
    "    corpusTokens=data.split()\n",
    "    nooftokens=int(len(corpusTokens))\n",
    "    return nooftokens\n",
    "print(tokennumber('file.txt'))"
   ]
  },
  {
   "cell_type": "code",
   "execution_count": 9,
   "metadata": {},
   "outputs": [
    {
     "name": "stdout",
     "output_type": "stream",
     "text": [
      "[[['saad'], ['fareed']], [['fareed'], ['is']], [['is'], ['my']], [['my'], ['name']], [['happy'], ['birthday']], [['birthday'], ['dear']], [['dear'], ['saad']], [['saad'], ['fareed']]]\n"
     ]
    }
   ],
   "source": [
    "result = []\n",
    "def bigram(sentence):\n",
    "    for line in sentence:\n",
    "        arr = line.split()\n",
    "        for i in range(len(arr)-1):\n",
    "            result.append([[arr[i]], [arr[i+1]]])\n",
    "            \n",
    "sentence= ['saad fareed is my name','happy birthday dear saad fareed']\n",
    "bigram(sentence)\n",
    "print(result)"
   ]
  },
  {
   "cell_type": "code",
   "execution_count": 8,
   "metadata": {},
   "outputs": [
    {
     "name": "stdout",
     "output_type": "stream",
     "text": [
      "[[['Muhammad'], ['Saad']], [['Saad'], ['fareed']], [['fareed'], ['is']], [['is'], ['my']], [['my'], ['name']], [['name'], ['and']], [['and'], ['happy']], [['happy'], ['birthday']], [['birthday'], ['boy']], [['boy'], ['Wish']], [['Wish'], ['you']], [['you'], ['best']], [['best'], ['of']], [['of'], ['the']], [['the'], ['luck']], [['luck'], ['for']], [['for'], ['the']], [['the'], ['Future.']], [['Future.'], ['خوشی']], [['خوشی'], ['اور']], [['اور'], ['صحت،']], [['صحت،'], ['بذریعہ']], [['بذریعہ'], ['این']], [['این'], ['ایل']], [['ایل'], ['پی']]]\n"
     ]
    }
   ],
   "source": [
    "result = []\n",
    "def bigram(sentence):\n",
    "    for line in sentence:\n",
    "        arr = line.split()\n",
    "        for i in range(len(arr)-1):\n",
    "            result.append([[arr[i]], [arr[i+1]]])\n",
    "f = open(\"file.txt\", \"r\")\n",
    "bigram(f)\n",
    "print(result)"
   ]
  },
  {
   "cell_type": "code",
   "execution_count": 33,
   "metadata": {},
   "outputs": [
    {
     "data": {
      "text/plain": [
       "[['saad', 'fareed', 'is'], ['fareed', 'is', 'my'], ['is', 'my', 'name']]"
      ]
     },
     "execution_count": 33,
     "metadata": {},
     "output_type": "execute_result"
    }
   ],
   "source": [
    "def ngrams(sentence, n):\n",
    "    sentence = sentence.split(' ')\n",
    "    output = []\n",
    "    for i in range(len(sentence)-n+1):\n",
    "        output.append(sentence[i:i+n])\n",
    "    return output\n",
    "ngrams('saad fareed is my name', 3)"
   ]
  },
  {
   "cell_type": "code",
   "execution_count": 7,
   "metadata": {},
   "outputs": [
    {
     "name": "stdout",
     "output_type": "stream",
     "text": [
      "Enter the Order 2\n"
     ]
    },
    {
     "data": {
      "text/plain": [
       "[['saad', 'fareed'], ['fareed', 'is'], ['is', 'my'], ['my', 'name']]"
      ]
     },
     "execution_count": 7,
     "metadata": {},
     "output_type": "execute_result"
    }
   ],
   "source": [
    "def ngrams(sentence, n):\n",
    "    sentence = sentence.split(' ')\n",
    "    output = []\n",
    "    for i in range(len(sentence)-n+1):\n",
    "        output.append(sentence[i:i+n])\n",
    "    return output\n",
    "order=int(input(\"Enter the Order \"))\n",
    "ngrams('saad fareed is my name', order)"
   ]
  },
  {
   "cell_type": "code",
   "execution_count": 5,
   "metadata": {},
   "outputs": [
    {
     "name": "stdout",
     "output_type": "stream",
     "text": [
      "Enter the Order 2\n"
     ]
    },
    {
     "data": {
      "text/plain": [
       "[['Muhammad', 'Saad'],\n",
       " ['Saad', 'fareed'],\n",
       " ['fareed', 'is'],\n",
       " ['is', 'my'],\n",
       " ['my', 'name'],\n",
       " ['name', 'and'],\n",
       " ['and', 'happy'],\n",
       " ['happy', 'birthday'],\n",
       " ['birthday', 'boy'],\n",
       " ['boy', 'Wish'],\n",
       " ['Wish', 'you'],\n",
       " ['you', 'best'],\n",
       " ['best', 'of'],\n",
       " ['of', 'the'],\n",
       " ['the', 'luck'],\n",
       " ['luck', 'for'],\n",
       " ['for', 'the'],\n",
       " ['the', 'Future.'],\n",
       " ['Future.', 'خوشی'],\n",
       " ['خوشی', 'اور'],\n",
       " ['اور', 'صحت،'],\n",
       " ['صحت،', 'بذریعہ'],\n",
       " ['بذریعہ', 'این'],\n",
       " ['این', 'ایل'],\n",
       " ['ایل', 'پی\\n']]"
      ]
     },
     "execution_count": 5,
     "metadata": {},
     "output_type": "execute_result"
    }
   ],
   "source": [
    "def ngrams(sentence, n):\n",
    "    sentence = sentence.split(' ')\n",
    "    output = []\n",
    "    for i in range(len(sentence)-n+1):\n",
    "        output.append(sentence[i:i+n])\n",
    "    return output\n",
    "order=int(input(\"Enter the Order \"))\n",
    "f = open(\"file.txt\")\n",
    "ngrams(f.read(), order)"
   ]
  },
  {
   "cell_type": "code",
   "execution_count": 14,
   "metadata": {},
   "outputs": [
    {
     "name": "stdout",
     "output_type": "stream",
     "text": [
      "26\n",
      "Enter the Order 2\n"
     ]
    },
    {
     "data": {
      "text/plain": [
       "[['Muhammad', 'Saad'],\n",
       " ['Saad', 'fareed'],\n",
       " ['fareed', 'is'],\n",
       " ['is', 'my'],\n",
       " ['my', 'name'],\n",
       " ['name', 'and'],\n",
       " ['and', 'happy'],\n",
       " ['happy', 'birthday'],\n",
       " ['birthday', 'boy'],\n",
       " ['boy', 'Wish'],\n",
       " ['Wish', 'you'],\n",
       " ['you', 'best'],\n",
       " ['best', 'of'],\n",
       " ['of', 'the'],\n",
       " ['the', 'luck'],\n",
       " ['luck', 'for'],\n",
       " ['for', 'the'],\n",
       " ['the', 'Future.'],\n",
       " ['Future.', 'خوشی'],\n",
       " ['خوشی', 'اور'],\n",
       " ['اور', 'صحت،'],\n",
       " ['صحت،', 'بذریعہ'],\n",
       " ['بذریعہ', 'این'],\n",
       " ['این', 'ایل'],\n",
       " ['ایل', 'پی\\n']]"
      ]
     },
     "execution_count": 14,
     "metadata": {},
     "output_type": "execute_result"
    }
   ],
   "source": [
    "def ngrams(sentence, n):\n",
    "    sentence = sentence.split(' ')\n",
    "    output = []\n",
    "    for i in range(len(sentence)-n+1):\n",
    "        output.append(sentence[i:i+n])\n",
    "    return output\n",
    "def tokennumber(file_path):\n",
    "    corpusFileName=file_path \n",
    "    corpusFile=open(corpusFileName);\n",
    "    data=corpusFile.read()\n",
    "    corpusTokens=data.split()\n",
    "    nooftokens=int(len(corpusTokens))\n",
    "    return nooftokens\n",
    "print(tokennumber('file.txt'))\n",
    "order=int(input(\"Enter the Order \"))\n",
    "f = open(\"file.txt\")\n",
    "ngrams(f.read(), order)"
   ]
  },
  {
   "cell_type": "code",
   "execution_count": 21,
   "metadata": {},
   "outputs": [
    {
     "name": "stdout",
     "output_type": "stream",
     "text": [
      "It will generate Bigrams of the language \n"
     ]
    },
    {
     "data": {
      "text/plain": [
       "[['Muhammad', 'Saad'],\n",
       " ['Saad', 'fareed'],\n",
       " ['fareed', 'is'],\n",
       " ['is', 'my'],\n",
       " ['my', 'name'],\n",
       " ['name', 'and'],\n",
       " ['and', 'happy'],\n",
       " ['happy', 'birthday'],\n",
       " ['birthday', 'boy'],\n",
       " ['boy', 'Wish'],\n",
       " ['Wish', 'you'],\n",
       " ['you', 'best'],\n",
       " ['best', 'of'],\n",
       " ['of', 'the'],\n",
       " ['the', 'luck'],\n",
       " ['luck', 'for'],\n",
       " ['for', 'the'],\n",
       " ['the', 'Future.خوشی'],\n",
       " ['Future.خوشی', 'اور'],\n",
       " ['اور', 'صحت،'],\n",
       " ['صحت،', 'بذریعہ'],\n",
       " ['بذریعہ', 'این'],\n",
       " ['این', 'ایل'],\n",
       " ['ایل', 'پی\\n']]"
      ]
     },
     "execution_count": 21,
     "metadata": {},
     "output_type": "execute_result"
    }
   ],
   "source": [
    "def ngrams(sentence):\n",
    "    sentence = sentence.split(' ')\n",
    "    output = []\n",
    "    for i in range(len(sentence)-1):\n",
    "        output.append(sentence[i:i+2])\n",
    "    return output\n",
    "print(\"It will generate Bigrams of the language \")\n",
    "f = open(\"file.txt\")\n",
    "ngrams(f.read())"
   ]
  },
  {
   "cell_type": "code",
   "execution_count": null,
   "metadata": {},
   "outputs": [],
   "source": []
  }
 ],
 "metadata": {
  "kernelspec": {
   "display_name": "Python 3",
   "language": "python",
   "name": "python3"
  },
  "language_info": {
   "codemirror_mode": {
    "name": "ipython",
    "version": 3
   },
   "file_extension": ".py",
   "mimetype": "text/x-python",
   "name": "python",
   "nbconvert_exporter": "python",
   "pygments_lexer": "ipython3",
   "version": "3.8.5"
  }
 },
 "nbformat": 4,
 "nbformat_minor": 4
}
